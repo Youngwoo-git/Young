{
 "cells": [
  {
   "cell_type": "code",
   "execution_count": 2,
   "metadata": {},
   "outputs": [
    {
     "name": "stderr",
     "output_type": "stream",
     "text": [
      "usage: ipykernel_launcher.py [-h] -i DATASET -e ENCODINGS\n",
      "                             [-d DETECTION_METHOD]\n",
      "ipykernel_launcher.py: error: the following arguments are required: -i/--dataset, -e/--encodings\n"
     ]
    },
    {
     "ename": "SystemExit",
     "evalue": "2",
     "output_type": "error",
     "traceback": [
      "An exception has occurred, use %tb to see the full traceback.\n",
      "\u001b[0;31mSystemExit\u001b[0m\u001b[0;31m:\u001b[0m 2\n"
     ]
    },
    {
     "name": "stderr",
     "output_type": "stream",
     "text": [
      "/home/ubuntu/anaconda3/lib/python3.6/site-packages/IPython/core/interactiveshell.py:3351: UserWarning: To exit: use 'exit', 'quit', or Ctrl-D.\n",
      "  warn(\"To exit: use 'exit', 'quit', or Ctrl-D.\", stacklevel=1)\n"
     ]
    }
   ],
   "source": [
    "from imutils import paths\n",
    "import face_recognition\n",
    "import argparse\n",
    "import pickle\n",
    "import cv2\n",
    "import os\n",
    "\n",
    "ap = argparse.ArgumentParser()\n",
    "ap.add_argument(\"-i\", \"--dataset\", required=True,\n",
    "                help = \"path to input directory of faces+images\")\n",
    "ap.add_argument(\"-e\", \"--encodings\", required=True,\n",
    "                help=\"path to serialized db of facial encodings\")\n",
    "ap.add_argument(\"-d\", \"--detection-method\", type=str, default=\"cnn\",\n",
    "                help=\"face detection model to use: either 'hog' or 'cnn'\")\n",
    "\n",
    "args=vars(ap.parse_args())\n",
    "\n",
    "imagePaths = list(paths.list_images(args[\"dataset\"]))\n",
    "knownEncodings=[]\n",
    "knownNames=[]\n",
    "\n",
    "for (i, imagePath) in enumerate(imagePaths):\n",
    "    print(\"processing image {}/{}\".format(i+1,len(imagePaths)))\n",
    "    name = imagePath.split(os.path.sep)[-2]\n",
    "    print(\"name\", name)\n",
    "\n",
    "    image = cv2.imread(imagePath)\n",
    "    rgb = cv2.cvtColor(image, cv2.COLOR_BGR2RGB)\n",
    "\n",
    "    boxes = face_recognition.face_locations(rgb, model=args[\"detection_method\"])\n",
    "\n",
    "    encodings = face_recognition.face_encodings(rgb, boxes)\n",
    "\n",
    "    for encoding in encodings:\n",
    "        knownEncodings.append(encoding)\n",
    "        knownNames.append(name)\n",
    "\n",
    "data ={\"encodings\": knownEncodings, \"names\": knownNames}\n",
    "f = open(\"cnn\", \"wb\")\n",
    "f.write(pickle.dumps(data))\n",
    "f.close()"
   ]
  },
  {
   "cell_type": "code",
   "execution_count": 1,
   "metadata": {},
   "outputs": [
    {
     "ename": "ModuleNotFoundError",
     "evalue": "No module named 'face_recognition'",
     "output_type": "error",
     "traceback": [
      "\u001b[0;31m---------------------------------------------------------------------------\u001b[0m",
      "\u001b[0;31mModuleNotFoundError\u001b[0m                       Traceback (most recent call last)",
      "\u001b[0;32m<ipython-input-1-971a8d6a87cb>\u001b[0m in \u001b[0;36m<module>\u001b[0;34m\u001b[0m\n\u001b[0;32m----> 1\u001b[0;31m \u001b[0;32mimport\u001b[0m \u001b[0mface_recognition\u001b[0m\u001b[0;34m\u001b[0m\u001b[0;34m\u001b[0m\u001b[0m\n\u001b[0m\u001b[1;32m      2\u001b[0m \u001b[0;32mimport\u001b[0m \u001b[0margparse\u001b[0m\u001b[0;34m\u001b[0m\u001b[0;34m\u001b[0m\u001b[0m\n\u001b[1;32m      3\u001b[0m \u001b[0;32mimport\u001b[0m \u001b[0mpickle\u001b[0m\u001b[0;34m\u001b[0m\u001b[0;34m\u001b[0m\u001b[0m\n\u001b[1;32m      4\u001b[0m \u001b[0;32mimport\u001b[0m \u001b[0mcv2\u001b[0m\u001b[0;34m\u001b[0m\u001b[0;34m\u001b[0m\u001b[0m\n\u001b[1;32m      5\u001b[0m \u001b[0;34m\u001b[0m\u001b[0m\n",
      "\u001b[0;31mModuleNotFoundError\u001b[0m: No module named 'face_recognition'"
     ]
    }
   ],
   "source": [
    "import face_recognition\n",
    "import argparse\n",
    "import pickle\n",
    "import cv2\n",
    "\n",
    "ap =argparse.ArgumentParser()\n",
    "\n",
    "ap.add_argument(\"-e\", \"--encodings\", required=True,\n",
    "                help=\"path to serialiazed db of facial encodings\")\n",
    "ap.add_argument(\"-i\", \"--image\", required=True,\n",
    "                help=\"path to input image\")\n",
    "ap.add_argument(\"-d\", \"--detection-method\", type=str, default=\"hog\",\n",
    "                help=\"face detection model to use: either 'hog' or 'cnn'\")\n",
    "args = vars(ap.parse_args())\n",
    "\n",
    "data = pickle.loads(open(args[\"encodings\"], \"rb\").read())\n",
    "\n",
    "image = cv2.imread(args[\"image\"])\n",
    "rgb = cv2.cvtColor(image, cv2.COLOR_BGR2RGB)\n",
    "\n",
    "\n",
    "\n",
    "\n",
    "boxes = face_recognition.face_locations(rgb, model=args[\"detection_method\"])\n",
    "\n",
    "\n",
    "\n",
    "encodings = face_recognition.face_encodings(rgb, boxes)\n",
    "\n",
    "names = []\n",
    "\n",
    "for encoding in encodings:\n",
    "    matches = face_recognition.compare_faces(data[\"encodings\"], encoding)\n",
    "    name = \"Unknown\"\n",
    "\n",
    "    if True in matches:\n",
    "        #indexes for True values\n",
    "        matchedIdxs = [i for (i, b) in  enumerate(matches) if b]\n",
    "        counts = {}\n",
    "\n",
    "        for i in matchedIdxs:\n",
    "            name = data[\"names\"][i]\n",
    "            counts[name] = counts.get(name, 0)+1\n",
    "        name = max(counts, key=counts.get)\n",
    "    names.append(name)\n",
    "for ((top, right, bottom, left), name) in zip(boxes, names):\n",
    "    cv2.rectangle(image, (left, top), (right, bottom), (0, 255, 0), 2)\n",
    "    y = top - 15 if top - 15>15 else top+15\n",
    "    cv2.putText(image, name, (left, y), cv2.FONT_HERSHEY_SIMPLEX,\n",
    "                0.75, (0, 255, 0), 2)\n",
    "\n",
    "cv2.imshow(\"Image\", image)\n",
    "cv2.waitKey(0)"
   ]
  }
 ],
 "metadata": {
  "kernelspec": {
   "display_name": "Python 3",
   "language": "python",
   "name": "python3"
  },
  "language_info": {
   "codemirror_mode": {
    "name": "ipython",
    "version": 3
   },
   "file_extension": ".py",
   "mimetype": "text/x-python",
   "name": "python",
   "nbconvert_exporter": "python",
   "pygments_lexer": "ipython3",
   "version": "3.6.10"
  }
 },
 "nbformat": 4,
 "nbformat_minor": 4
}
