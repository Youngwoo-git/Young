{
 "cells": [
  {
   "cell_type": "code",
   "execution_count": 1,
   "metadata": {},
   "outputs": [],
   "source": [
    "import json"
   ]
  },
  {
   "cell_type": "code",
   "execution_count": 6,
   "metadata": {},
   "outputs": [],
   "source": [
    "json_obj = '{\"Name\":\"Young\", \"Class\":\"I\", \"Age\":26}'\n",
    "python_obj = json.loads(json_obj)\n",
    "\n",
    "python_obj\n",
    "\n",
    "json_obj"
   ]
  },
  {
   "cell_type": "code",
   "execution_count": 7,
   "metadata": {},
   "outputs": [],
   "source": [
    "#convert python data to json data\n",
    "print(json.dumps(python_obj))"
   ]
  },
  {
   "cell_type": "code",
   "execution_count": 21,
   "metadata": {},
   "outputs": [
    {
     "data": {
      "text/plain": [
       "(4+3j)"
      ]
     },
     "execution_count": 21,
     "metadata": {},
     "output_type": "execute_result"
    }
   ],
   "source": [
    "def is_complex(object):\n",
    "    # conversion to complex number\n",
    "    if '__complex__' in object:\n",
    "        return complex(object['real'], object['img'])\n",
    "    return object\n",
    "\n",
    "#json reads true with lower cases\n",
    "complex_object = json.loads('{\"__complex__\":true, \"real\":4, \"img\":5}', object_hook = is_complex)\n",
    "\n",
    "\n",
    "# complex_object\n",
    "simple_object = json.loads('{\"real\":4, \"img\":5}', object_hook = is_complex)\n",
    "simple_object\n",
    "\n",
    "#still works even when __complex__ is false\n",
    "complex_object_test = json.loads('{\"__complex__\":true, \"real\":4, \"img\":3}', object_hook = is_complex)\n",
    "complex_object_test"
   ]
  }
 ],
 "metadata": {
  "kernelspec": {
   "display_name": "Python 3",
   "language": "python",
   "name": "python3"
  },
  "language_info": {
   "codemirror_mode": {
    "name": "ipython",
    "version": 3
   },
   "file_extension": ".py",
   "mimetype": "text/x-python",
   "name": "python",
   "nbconvert_exporter": "python",
   "pygments_lexer": "ipython3",
   "version": "3.6.10"
  }
 },
 "nbformat": 4,
 "nbformat_minor": 4
}
