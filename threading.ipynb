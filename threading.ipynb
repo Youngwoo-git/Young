{
 "cells": [
  {
   "cell_type": "code",
   "execution_count": null,
   "metadata": {},
   "outputs": [],
   "source": [
    "from threading import Thread\n",
    "# from serv import serv_manipulation\n",
    "\n",
    "import time\n",
    "\n",
    "def call_class():\n",
    "    while True:\n",
    "        print(\"classes\")\n",
    "        time.sleep(5)\n",
    "    \n",
    "    \n",
    "def db_update():\n",
    "    while True:\n",
    "        print(\"2\")\n",
    "        time.sleep(10)\n",
    "        \n",
    "        \n",
    "threading1 = Thread(target = call_class)\n",
    "threading2 = Thread(target = db_update)\n",
    "\n",
    "\n",
    "threading1.start()\n",
    "threading2.start()\n",
    "\n",
    "threading1.join()\n",
    "threading2.join()"
   ]
  },
  {
   "cell_type": "code",
   "execution_count": 7,
   "metadata": {},
   "outputs": [],
   "source": [
    "import threading"
   ]
  }
 ],
 "metadata": {
  "kernelspec": {
   "display_name": "Python 3",
   "language": "python",
   "name": "python3"
  },
  "language_info": {
   "codemirror_mode": {
    "name": "ipython",
    "version": 3
   },
   "file_extension": ".py",
   "mimetype": "text/x-python",
   "name": "python",
   "nbconvert_exporter": "python",
   "pygments_lexer": "ipython3",
   "version": "3.6.10"
  }
 },
 "nbformat": 4,
 "nbformat_minor": 4
}
